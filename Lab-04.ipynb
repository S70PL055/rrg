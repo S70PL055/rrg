{
 "cells": [
  {
   "cell_type": "markdown",
   "metadata": {},
   "source": [
    "# Lab 04: Python II, functions and loops\n",
    "\n",
    "This three-part lab will quiz your ability to recognize/solve programming errors and build geoprocessing scripts.\n",
    "\n",
    "## Part I: Quiz (4 pts)\n",
    "\n",
    "Solve these two problems. Comment each statement with an explanation of its purpose."
   ]
  },
  {
   "cell_type": "code",
   "execution_count": 1,
   "metadata": {},
   "outputs": [
    {
     "name": "stdout",
     "output_type": "stream",
     "text": [
      "1.55 round default\n",
      "1.56 round decimal\n"
     ]
    }
   ],
   "source": [
    "# Problem 1\n",
    "# ------------------------------------------------------------ #\n",
    "# Write Python statements that correctly rounds the number defined in the below variable to TWO decimal places. \n",
    "# Print that number to the screen.\n",
    "\n",
    "x = 1.555\n",
    "\n",
    "print(round(x,2), \"round default\")\n",
    "\n",
    "import decimal\n",
    "decNumber = decimal.Decimal(str(x))\n",
    "print(round(decNumber,2), \"round decimal\")"
   ]
  },
  {
   "cell_type": "code",
   "execution_count": 2,
   "metadata": {},
   "outputs": [
    {
     "name": "stdout",
     "output_type": "stream",
     "text": [
      "1\n",
      "2\n",
      "3\n",
      "4\n",
      "5\n",
      "6\n",
      "7\n",
      "8\n",
      "9\n",
      "10\n"
     ]
    }
   ],
   "source": [
    "# Problem 2\n",
    "# ------------------------------------------------------------ #\n",
    "# Use the += operator and a while loop to print 10 consecutive integers to the screen.\n",
    "\n",
    "# assign the variable x = 1\n",
    "x = 1\n",
    "# while x is less than 11 print\n",
    "while x < 11:\n",
    "    print(x)\n",
    "    x += 1"
   ]
  },
  {
   "cell_type": "code",
   "execution_count": 3,
   "metadata": {},
   "outputs": [
    {
     "name": "stdout",
     "output_type": "stream",
     "text": [
      "!dlroW olleH\n",
      "!dlroW olleH\n",
      "!dlroW olleH\n",
      "HloWrd\n",
      "HlWl\n",
      "!dlroW olleH\n"
     ]
    }
   ],
   "source": [
    "# Problem 3\n",
    "# ------------------------------------------------------------ #\n",
    "# Using the while loop print the string variable below backward on one line, e.g., !dlroW olleH.\n",
    "\n",
    "a = \"Hello World!\"\n",
    "i = 0\n",
    "while i < len(a):\n",
    "    print(a[::-1])\n",
    "    break # this breaks out after one loop\n",
    "\n",
    "print(a[::-1]) \n",
    "# The third index is the stride. The empty first and second index means take entire string\n",
    "print(a[-1:-13:-1]) # Start at -1 and end -13 taking each character\n",
    "print(a[0:12:2]) # skip every other character\n",
    "print(a[0:12:3]) # skip every third character    \n",
    "\n",
    "# Try this!\n",
    "i = 0  # empty variables\n",
    "b = \"\" \n",
    "while i < len(a):\n",
    "    b += a[-i-1]\n",
    "    i += 1\n",
    "print(b)"
   ]
  },
  {
   "cell_type": "code",
   "execution_count": 4,
   "metadata": {},
   "outputs": [
    {
     "name": "stdout",
     "output_type": "stream",
     "text": [
      "Tell me something scary 🎃My cat has googly eyes.\n",
      "My cat has googly eyes!\n",
      "Tell me something scary 🎃My cat has glowing googly eyes.\n",
      "My cat has glowing googly eyes!\n"
     ]
    }
   ],
   "source": [
    "# Problem 4\n",
    "# ------------------------------------------------------------ #\n",
    "# Define and call a function that \n",
    "# 1) takes input from the user,\n",
    "# 2) replaces the last character with a exclamaiton point,\n",
    "# 3) prints it back to the user,\n",
    "# 4) and must work on any character provided by the user.\n",
    "\n",
    "# The input statement to use.\n",
    "a_sentence = input(\"Tell me something scary 🎃\")\n",
    "a_sentence = a_sentence[:-1] + '!'\n",
    "print(a_sentence)\n",
    "\n",
    "# define function\n",
    "def scary():\n",
    "    a_sentence = input(\"Tell me something scary 🎃\")\n",
    "    new_sentence = a_sentence[:-1] + '!'\n",
    "    print(new_sentence)\n",
    "\n",
    "# call function\n",
    "scary()"
   ]
  },
  {
   "cell_type": "markdown",
   "metadata": {},
   "source": [
    "## Part II: Refactoring lab 02 code (4 pts)\n",
    "\n",
    "Refactoring is a fancy term for changing our code to be simpler and easier to read while keeping the same functionality. The term is an appropriation of Algebra terminology where factoring is a process that helps us better understand complex expressions. \n",
    "\n",
    "Refactoring is commonly been compared to maintaining good data hygiene. Code in poor hygiene is fragile and doesn't work well. The \"hardcoded\" file paths we made in lab 02 are poor practice and not easy to maintain. We did this to \"git 'er done\" but is not a sustainable practice in light of the tools we introduced in this lesson. Plus, we want to minimize the sizes of our datasets. In Lab 2 we kept the old data. In this lab we'll remove the source layers and use only the clipped data.\n",
    "\n",
    "Let's consider this starter script. Can you complete it using the for loop and functions provided? We will do most of this in class."
   ]
  },
  {
   "cell_type": "code",
   "execution_count": null,
   "metadata": {},
   "outputs": [],
   "source": [
    "# Python 3\n",
    "# ----- Select and process GIS data ----- #\n",
    "# by S70PL055 for GEO 409, UKy\n",
    "# Fall, 2018\n",
    "# ----- ------------------------ ----- #\n",
    "\n",
    "# Import site package for ArcGIS\n",
    "import arcpy"
   ]
  },
  {
   "cell_type": "code",
   "execution_count": null,
   "metadata": {},
   "outputs": [],
   "source": [
    "# C:\\GISwoods409\\data\\rrg_build.gdb\n",
    "# Ask for geodatabase to process\n",
    "geodatabase = input(\"Full pathname to geodatabase: \")\n",
    "\n",
    "# Show contents of database\n",
    "try:\n",
    "    arcpy.env.workspace = geodatabase\n",
    "    featureList = arcpy.ListFeatureClasses()\n",
    "    rasterList = arcpy.ListRasters()\n",
    "    print (\"Vector: \", featureList)\n",
    "    print (\"Raster: \", rasterList)\n",
    "except:\n",
    "    print(\"Not a valid database\")\n",
    "\n",
    "# Select clip layer\n",
    "cliplayer = input(\"Select clip layer: \")\n",
    "\n",
    "# Set ArcGIS evironment\n",
    "arcpy.env.overwriteOutput = True\n",
    "\n",
    "# Clipping vector files\n",
    "for fc in featureList:\n",
    "    if fc != cliplayer:\n",
    "        print(\"Clipping \" + fc + \" layer ... \")\n",
    "        arcpy.Clip_analysis (fc, cliplayer, fc + \"_clip\", \"#\")\n",
    "            # User Delete old files        \n",
    "        delete = input(\"Delete \" + fc \"? yes or no: \")\n",
    "        if \"yes\" in delete.lower():\n",
    "            print(\"Deleting \" + fc + \" layer ... \")\n",
    "            arcpy.Delete_management (geodatabase + \"/\" + fc)\n",
    "        \n",
    "\n",
    "\n",
    "# Clipping rastor files\n",
    "for rc in rasterList:\n",
    "    if rc != cliplayer:\n",
    "        print(\"Clipping \" + rc + \" layer ... \")\n",
    "        arcpy.Clip_management (rc, \"#\", rc + \"_clip\", cliplayer, 255, \"NONE\", \"NO_MAINTAIN_EXTENT\")"
   ]
  },
  {
   "cell_type": "markdown",
   "metadata": {},
   "source": [
    "## Part III: Three hillshade rasters (2 pts)\n",
    "\n",
    "Create a script that creates three hillshade rasters from the DEM clipped in Part II. The three different rasters must have vary either parameter.\n",
    "\n",
    "* Azimuth: 90, 180, 270  \n",
    "---- OR ----\n",
    "* Altitude: 30, 45, 60\n",
    "\n",
    "Use a `while` loop to iterate through parameter values. The tool documentation [can be found here](http://pro.arcgis.com/en/pro-app/tool-reference/3d-analyst/hillshade.htm). Other parameter settings are configured at your discretion.\n",
    "\n",
    "### Example we'll do in class\n",
    "\n",
    "This animation shows an example of visualizations that require Python scripting. \n",
    "\n",
    "* https://uky-gis.github.io/maps/rrg-summer-day/\n",
    "\n",
    "![Animated GIF](https://outragegis.com/gorge/animations/sun.gif)"
   ]
  },
  {
   "cell_type": "code",
   "execution_count": null,
   "metadata": {},
   "outputs": [],
   "source": [
    "# Import site package for ArcGIS\n",
    "import arcpy"
   ]
  },
  {
   "cell_type": "code",
   "execution_count": null,
   "metadata": {},
   "outputs": [],
   "source": [
    "# Hillshade raster\n",
    "\n",
    "x = input(\"Number: \")\n",
    "\n",
    "# Define variables\n",
    "in_raster = \"DEM_2016_5ft\"\n",
    "lo_res = \"dem_15.tif\"\n",
    "out_dir = \"C:/GISwoods409/data/hillshade/\"\n",
    "out_raster = \"C:/GISwoods409/data/hillshade/dem_15_hillshade.tif\"\n",
    "    \n",
    "while x != 0:\n",
    "    i = 0\n",
    "    azimuth = 270\n",
    "    altitude = 60\n",
    "\n",
    "    # Reduce resolution\n",
    "    arcpy.Resample_management (in_raster, out_dir + lo_res, 15, \"CUBIC\")\n",
    "\n",
    "    # create describe object and print the raster's dimensions\n",
    "    describeLayer = arcpy.Describe(out_dir + lo_res) \n",
    "    print(describeLayer.height,describeLayer.width)\n",
    "\n",
    "    # Create hillshade\n",
    "    arcpy.HillShade_3d(out_dir + lo_res, out_raster, azimuth, altitude, \"SHADOWS\", 1)\n",
    "\n",
    "    out_raster = \"C:/GISwoods409/data/hillshade/dem_15_hillshade1.tif\"\n",
    "    i = 0\n",
    "    azimuth = 180\n",
    "    altitude = 45\n",
    "\n",
    "    # Reduce resolution\n",
    "    arcpy.Resample_management (in_raster, out_dir + lo_res, 15, \"CUBIC\")\n",
    "\n",
    "    # create describe object and print the raster's dimensions\n",
    "    describeLayer = arcpy.Describe(out_dir + lo_res) \n",
    "    print(describeLayer.height,describeLayer.width)\n",
    "\n",
    "    # Create hillshade\n",
    "    arcpy.HillShade_3d(out_dir + lo_res, out_raster, azimuth, altitude, \"SHADOWS\", 1)\n",
    "\n",
    "    out_raster = \"C:/GISwoods409/data/hillshade/dem_15_hillshade2.tif\"\n",
    "    i = 0\n",
    "    azimuth = 90\n",
    "    altitude = 30\n",
    "\n",
    "    # Reduce resolution\n",
    "    arcpy.Resample_management (in_raster, out_dir + lo_res, 15, \"CUBIC\")\n",
    "\n",
    "    # create describe object and print the raster's dimensions\n",
    "    describeLayer = arcpy.Describe(out_dir + lo_res) \n",
    "    print(describeLayer.height,describeLayer.width)\n",
    "\n",
    "    # Create hillshade\n",
    "    arcpy.HillShade_3d(out_dir + lo_res, out_raster, azimuth, altitude, \"SHADOWS\", 1)\n"
   ]
  },
  {
   "cell_type": "markdown",
   "metadata": {},
   "source": [
    "## Challenge: Create a function\n",
    "\n",
    "Write a script that makes your hillshade exercise a function. The following requirements should be fulfilled.\n",
    "\n",
    "* Function should take three arguments\n",
    "    1. Which parameter to iterate through, azimuth or altitude\n",
    "    2. What is the starting value\n",
    "    3. what is the increment?\n",
    "* Use an `input()` function to collect this information\n",
    "* Use `try`/`except` to test for correct input \n",
    "\n",
    "Example usage: `my_hillshade_function(azimuth, 240, 5)` would iterate through the azimuth parameter starting at 240&deg; and increase in 5&deg; increments."
   ]
  },
  {
   "cell_type": "code",
   "execution_count": null,
   "metadata": {},
   "outputs": [],
   "source": [
    "# Hillshade function\n",
    "# User input\n",
    "x = input(\"azimuth or altitude: \")\n",
    "y = input(\"Starting value: \")\n",
    "z = input(\"Increase by: \")\n",
    "\n",
    "def hillshade_function(x, y, z):\n",
    "    p = srt(x) + str(y) + srt(z)\n",
    "    print(srt(x) + str(y) + srt(z))\n",
    "    return p\n",
    "\n",
    "help(hillshade_function)"
   ]
  },
  {
   "cell_type": "markdown",
   "metadata": {},
   "source": [
    "## Tip \n",
    "\n",
    "If you restart this notebook, you should first run the cell the contains `import arcpy`."
   ]
  },
  {
   "cell_type": "code",
   "execution_count": null,
   "metadata": {},
   "outputs": [],
   "source": [
    "# Set variables\n",
    "in_raster = \"DEM_2016_5ft\"\n",
    "lo_res = \"dem_15.tif\"\n",
    "out_dir = \"C:/GISwoods409/data/hillshade/\"\n",
    "azimuth = 90\n",
    "altitude = 55\n",
    "\n",
    "# Reduce resolution\n",
    "arcpy.Resample_management (in_raster, out_dir + lo_res, 15, \"CUBIC\")\n",
    "\n",
    "# This creates a while loop that will create the 3 hillshades\n",
    "# The loop will run as long as azimuth is less that 270\n",
    "while azimuth <= 270:\n",
    "    # This determines what the hillshade output will be called\n",
    "    out_raster = out_dir + \"dem_hill_\" + str(i) + \".tif\"\n",
    "    print(\"Creating hillshade from \" + lo_res + \" ...\")\n",
    "    arcpy.HillShade_3d(in_raster, out_raster, azimuth, altitude, \"SHADOWS\", 1)\n",
    "    azimuth += 90 # make hillshades with a 90, 180, and 270 azimuth\n",
    "    "
   ]
  }
 ],
 "metadata": {
  "kernelspec": {
   "display_name": "Python 3",
   "language": "python",
   "name": "python3"
  },
  "language_info": {
   "codemirror_mode": {
    "name": "ipython",
    "version": 3
   },
   "file_extension": ".py",
   "mimetype": "text/x-python",
   "name": "python",
   "nbconvert_exporter": "python",
   "pygments_lexer": "ipython3",
   "version": "3.6.5"
  }
 },
 "nbformat": 4,
 "nbformat_minor": 2
}
